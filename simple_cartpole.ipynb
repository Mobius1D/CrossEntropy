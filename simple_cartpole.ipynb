{
 "metadata": {
  "language_info": {
   "codemirror_mode": {
    "name": "ipython",
    "version": 3
   },
   "file_extension": ".py",
   "mimetype": "text/x-python",
   "name": "python",
   "nbconvert_exporter": "python",
   "pygments_lexer": "ipython3",
   "version": "3.6.5-final"
  },
  "orig_nbformat": 2,
  "kernelspec": {
   "name": "python3",
   "display_name": "Python 3.6.5 64-bit ('openaigym': conda)",
   "metadata": {
    "interpreter": {
     "hash": "e6aba4afdc53f9f5ebdfb327a13264a89b542bf36e537399fc4a4c3ca6aa24c7"
    }
   }
  }
 },
 "nbformat": 4,
 "nbformat_minor": 2,
 "cells": [
  {
   "cell_type": "code",
   "execution_count": 12,
   "metadata": {},
   "outputs": [],
   "source": [
    "# constants\n",
    "\n",
    "import torch\n",
    "import torch.nn as nn\n",
    "import numpy as np\n",
    "from collections import namedtuple\n",
    "import gym\n",
    "from tensorboard import SummaryWriter\n",
    "\n",
    "BATCH_SIZE = 16\n",
    "PERCENTILE = 70\n",
    "HIDDEN_SIZE = 128"
   ]
  },
  {
   "cell_type": "code",
   "execution_count": 13,
   "metadata": {},
   "outputs": [],
   "source": [
    "class Net(nn.Module):\n",
    "    def __init__(self, obs_size, hidden_size, output_size):\n",
    "        super(Net, self).__init__()\n",
    "        self.net = nn.Sequential(\n",
    "            nn.Linear(obs_size, hidden_size), \n",
    "            nn.ReLU(),\n",
    "            nn.Linear(hidden_size, output_size),\n",
    "        )\n",
    "    \n",
    "    def forward(self, x):\n",
    "        return self.net(x)\n"
   ]
  },
  {
   "cell_type": "code",
   "execution_count": 14,
   "metadata": {},
   "outputs": [],
   "source": [
    "Episode = namedtuple(\"Episode\", field_names = [\"reward\", \"steps\"])\n",
    "EpisodeStep = namedtuple(\"EpisodeStep\", field_names=[\"action\", \"observation\"])"
   ]
  },
  {
   "cell_type": "code",
   "execution_count": 15,
   "metadata": {},
   "outputs": [],
   "source": [
    "def iterate_batches(env, net, batch_size):\n",
    "    batch = []\n",
    "    episode_reward = 0.0\n",
    "    episode_steps = []\n",
    "    obs = env.reset()\n",
    "    sm = nn.Softmax(dim = 1)\n",
    "\n",
    "    while True:\n",
    "        obs_v = torch.FloatTensor([obs])\n",
    "        act_probs_v = sm(net(obs_v))\n",
    "        act_probs = act_probs_v.data.numpy()[0]\n",
    "        action = np.random.choice(len(act_probs), p=act_probs)\n",
    "        next_obs, reward, is_done, _ = env.step(action)\n",
    "\n",
    "        episode_reward += reward\n",
    "        episode_steps.append(EpisodeStep(observation=obs, action=action))\n",
    "\n",
    "        if is_done:\n",
    "            batch.append(Episode(reward=episode_reward, steps=episode_steps))\n",
    "            episode_reward = 0.0\n",
    "            episode_steps = []\n",
    "            next_obs = env.reset()\n",
    "            if len(batch) == batch_size:\n",
    "                yield batch\n",
    "                batch = []\n",
    "        \n",
    "        obs = next_obs\n"
   ]
  },
  {
   "cell_type": "code",
   "execution_count": 16,
   "metadata": {},
   "outputs": [],
   "source": [
    "def filter_batch(batch, percentile):\n",
    "    rewards = list(map(lambda s: s.reward, batch))\n",
    "    reward_bound = np.percentile(rewards, percentile)\n",
    "    reward_mean = float(np.mean(rewards))\n",
    "\n",
    "    train_obs = []\n",
    "    train_act = []\n",
    "    for example in batch:\n",
    "        if example.reward < reward_bound:\n",
    "            continue\n",
    "        train_obs.extend(map(lambda step: step.observation, example.steps))\n",
    "        train_act.extend(map(lambda step: step.action, example.steps))\n",
    "\n",
    "        train_obs_v = torch.FloatTensor(train_obs)\n",
    "        train_act_v = torch.LongTensor(train_act)\n",
    "    return train_obs_v, train_act_v, reward_bound, reward_mean"
   ]
  },
  {
   "cell_type": "code",
   "execution_count": 17,
   "metadata": {},
   "outputs": [
    {
     "output_type": "stream",
     "name": "stdout",
     "text": [
      "\u001b[33mWARN: gym.spaces.Box autodetected dtype as <class 'numpy.float32'>. Please provide explicit dtype.\u001b[0m\n",
      "0: loss=0.695, reward_mean=16.3, reward_bound=17.0\n",
      "1: loss=0.688, reward_mean=26.5, reward_bound=28.5\n",
      "2: loss=0.669, reward_mean=32.4, reward_bound=35.5\n",
      "3: loss=0.660, reward_mean=28.4, reward_bound=32.5\n",
      "4: loss=0.662, reward_mean=32.9, reward_bound=43.5\n",
      "5: loss=0.638, reward_mean=36.8, reward_bound=43.5\n",
      "6: loss=0.621, reward_mean=51.7, reward_bound=58.0\n",
      "7: loss=0.619, reward_mean=43.2, reward_bound=49.0\n",
      "8: loss=0.620, reward_mean=53.4, reward_bound=60.0\n",
      "9: loss=0.589, reward_mean=53.8, reward_bound=62.5\n",
      "10: loss=0.586, reward_mean=44.1, reward_bound=52.5\n",
      "11: loss=0.599, reward_mean=52.1, reward_bound=52.0\n",
      "12: loss=0.594, reward_mean=49.0, reward_bound=54.5\n",
      "13: loss=0.610, reward_mean=58.0, reward_bound=56.5\n",
      "14: loss=0.581, reward_mean=72.6, reward_bound=72.5\n",
      "15: loss=0.592, reward_mean=62.2, reward_bound=73.5\n",
      "16: loss=0.575, reward_mean=63.9, reward_bound=71.0\n",
      "17: loss=0.586, reward_mean=68.6, reward_bound=72.5\n",
      "18: loss=0.574, reward_mean=69.2, reward_bound=75.0\n",
      "19: loss=0.572, reward_mean=81.4, reward_bound=85.0\n",
      "20: loss=0.580, reward_mean=67.8, reward_bound=76.5\n",
      "21: loss=0.557, reward_mean=82.8, reward_bound=100.5\n",
      "22: loss=0.556, reward_mean=75.7, reward_bound=85.0\n",
      "23: loss=0.568, reward_mean=93.6, reward_bound=117.5\n",
      "24: loss=0.580, reward_mean=80.0, reward_bound=85.0\n",
      "25: loss=0.583, reward_mean=78.3, reward_bound=90.0\n",
      "26: loss=0.564, reward_mean=106.1, reward_bound=128.5\n",
      "27: loss=0.578, reward_mean=134.8, reward_bound=141.0\n",
      "28: loss=0.576, reward_mean=135.4, reward_bound=154.0\n",
      "29: loss=0.564, reward_mean=158.1, reward_bound=200.0\n",
      "30: loss=0.570, reward_mean=159.0, reward_bound=200.0\n",
      "31: loss=0.562, reward_mean=165.0, reward_bound=200.0\n",
      "32: loss=0.568, reward_mean=154.2, reward_bound=187.0\n",
      "33: loss=0.573, reward_mean=167.4, reward_bound=200.0\n",
      "34: loss=0.567, reward_mean=176.4, reward_bound=200.0\n",
      "35: loss=0.568, reward_mean=163.1, reward_bound=200.0\n",
      "36: loss=0.565, reward_mean=168.7, reward_bound=200.0\n",
      "37: loss=0.574, reward_mean=170.0, reward_bound=200.0\n",
      "38: loss=0.575, reward_mean=181.6, reward_bound=200.0\n",
      "39: loss=0.568, reward_mean=179.6, reward_bound=200.0\n",
      "40: loss=0.567, reward_mean=180.8, reward_bound=200.0\n",
      "41: loss=0.563, reward_mean=164.5, reward_bound=200.0\n",
      "42: loss=0.563, reward_mean=188.4, reward_bound=200.0\n",
      "43: loss=0.558, reward_mean=173.2, reward_bound=200.0\n",
      "44: loss=0.559, reward_mean=185.8, reward_bound=200.0\n",
      "45: loss=0.558, reward_mean=200.0, reward_bound=200.0\n",
      "Solved!\n"
     ]
    }
   ],
   "source": [
    "if __name__ == \"__main__\":\n",
    "    env = gym.make(\"CartPole-v0\")\n",
    "    # env = gym.wrappers.Monitor(env, directory=\"mon\", force=True)\n",
    "    obs_size = env.observation_space.shape[0]\n",
    "    n_actions = env.action_space.n\n",
    "\n",
    "    net = Net(obs_size, HIDDEN_SIZE, n_actions)\n",
    "    objective = nn.CrossEntropyLoss()\n",
    "    optimizer = torch.optim.Adam(params=net.parameters(), lr=0.01)\n",
    "    writer = SummaryWriter()\n",
    "\n",
    "    for iter_no, batch in enumerate(iterate_batches(env, net, BATCH_SIZE)):\n",
    "        obs_v, acts_v, reward_b, reward_m = filter_batch(batch, PERCENTILE)\n",
    "        optimizer.zero_grad()\n",
    "        action_scores_v = net(obs_v)\n",
    "        loss_v = objective(action_scores_v, acts_v)\n",
    "        loss_v.backward()\n",
    "        optimizer.step()\n",
    "        print(\"%d: loss=%.3f, reward_mean=%.1f, reward_bound=%.1f\" % (\n",
    "            iter_no, loss_v.item(), reward_m, reward_b))\n",
    "        writer.add_scalar(\"loss\", loss_v.item(), iter_no)\n",
    "        writer.add_scalar(\"reward_bound\", reward_b, iter_no)\n",
    "        writer.add_scalar(\"reward_mean\", reward_m, iter_no)\n",
    "        if reward_m > 199: \n",
    "            print(\"Solved!\")\n",
    "            break\n",
    "    writer.close()\n",
    "\n",
    "\n"
   ]
  }
 ]
}